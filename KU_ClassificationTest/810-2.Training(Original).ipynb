{
 "cells": [
  {
   "cell_type": "markdown",
   "id": "43276846",
   "metadata": {
    "toc": true
   },
   "source": [
    "<h1>Table of Contents<span class=\"tocSkip\"></span></h1>\n",
    "<div class=\"toc\"><ul class=\"toc-item\"><li><span><a href=\"#2.-Training\" data-toc-modified-id=\"2.-Training-1\"><span class=\"toc-item-num\">1&nbsp;&nbsp;</span>2. Training</a></span><ul class=\"toc-item\"><li><span><a href=\"#2-1.-Data-selection\" data-toc-modified-id=\"2-1.-Data-selection-1.1\"><span class=\"toc-item-num\">1.1&nbsp;&nbsp;</span>2-1. Data selection</a></span></li><li><span><a href=\"#2-2.-Training-Data-Preparation\" data-toc-modified-id=\"2-2.-Training-Data-Preparation-1.2\"><span class=\"toc-item-num\">1.2&nbsp;&nbsp;</span>2-2. Training Data Preparation</a></span></li><li><span><a href=\"#2-3.-Set-Training-Parameter\" data-toc-modified-id=\"2-3.-Set-Training-Parameter-1.3\"><span class=\"toc-item-num\">1.3&nbsp;&nbsp;</span>2-3. Set Training Parameter</a></span></li><li><span><a href=\"#2-4.-Training\" data-toc-modified-id=\"2-4.-Training-1.4\"><span class=\"toc-item-num\">1.4&nbsp;&nbsp;</span>2-4. Training</a></span></li><li><span><a href=\"#2-5.-Meta-Save\" data-toc-modified-id=\"2-5.-Meta-Save-1.5\"><span class=\"toc-item-num\">1.5&nbsp;&nbsp;</span>2-5. Meta Save</a></span></li></ul></li></ul></div>"
   ]
  },
  {
   "cell_type": "code",
   "execution_count": 1,
   "id": "95790ab5",
   "metadata": {
    "ExecuteTime": {
     "end_time": "2022-09-06T07:50:10.354869Z",
     "start_time": "2022-09-06T07:50:08.837152Z"
    }
   },
   "outputs": [
    {
     "name": "stderr",
     "output_type": "stream",
     "text": [
      "c:\\Users\\korea\\anaconda3\\envs\\torch\\lib\\site-packages\\tqdm\\auto.py:22: TqdmWarning: IProgress not found. Please update jupyter and ipywidgets. See https://ipywidgets.readthedocs.io/en/stable/user_install.html\n",
      "  from .autonotebook import tqdm as notebook_tqdm\n"
     ]
    },
    {
     "name": "stdout",
     "output_type": "stream",
     "text": [
      "cuda is available.\n"
     ]
    }
   ],
   "source": [
    "import sys, os\n",
    "import pandas as pd\n",
    "import numpy as np\n",
    "import setting\n",
    "import pathSetting\n",
    "sys.path.append(\"../../..\")\n",
    "\n",
    "from KETIToolDL.CLUSTTool.common import p1_integratedDataSaving as p1\n",
    "from KETIToolDL.CLUSTTool.common import p2_dataSelection as p2\n",
    "from KETIToolDL.CLUSTTool.common import p3_training as p3\n",
    "\n",
    "import torch\n",
    "import pickle\n",
    "from sklearn.model_selection import train_test_split\n",
    "from sklearn.preprocessing import MinMaxScaler\n",
    "\n",
    "device = \"cuda\" if torch.cuda.is_available() else \"cpu\"\n",
    "print(f\"{device}\" \" is available.\")"
   ]
  },
  {
   "cell_type": "markdown",
   "id": "0fcf28a6",
   "metadata": {},
   "source": [
    "# 2. Training \n",
    "\n",
    "## 2-1. Data selection"
   ]
  },
  {
   "cell_type": "code",
   "execution_count": 2,
   "id": "7a0b7a99",
   "metadata": {
    "ExecuteTime": {
     "end_time": "2022-09-06T07:50:10.359091Z",
     "start_time": "2022-09-06T07:50:10.356369Z"
    }
   },
   "outputs": [],
   "source": [
    "# 1. Train Data\n",
    "# 1-1. 저장 Data 확인\n",
    "DataMeta = p1.readJsonData(pathSetting.DataMetaPath)\n",
    "dataList =  list(DataMeta.keys())"
   ]
  },
  {
   "cell_type": "code",
   "execution_count": 3,
   "id": "9f5779d7",
   "metadata": {
    "ExecuteTime": {
     "end_time": "2022-09-06T07:50:10.540544Z",
     "start_time": "2022-09-06T07:50:10.520066Z"
    }
   },
   "outputs": [
    {
     "data": {
      "text/plain": [
       "['ML_testX_ActionPatternData_Split3',\n",
       " 'ML_testy_ActionPatternData_Split3',\n",
       " 'ML_trainX_ActionPatternData_Split3',\n",
       " 'ML_trainy_ActionPatternData_Split3',\n",
       " 'trainX_ActionPatternData_Split3',\n",
       " 'trainy_ActionPatternData_SplitNone',\n",
       " 'testX_ActionPatternData_Split3',\n",
       " 'testy_ActionPatternData_SplitNone']"
      ]
     },
     "execution_count": 3,
     "metadata": {},
     "output_type": "execute_result"
    }
   ],
   "source": [
    "dataList"
   ]
  },
  {
   "cell_type": "code",
   "execution_count": 20,
   "id": "5fb1424e",
   "metadata": {
    "ExecuteTime": {
     "end_time": "2022-09-06T07:12:58.411294Z",
     "start_time": "2022-09-06T07:12:58.401859Z"
    }
   },
   "outputs": [
    {
     "data": {
      "text/plain": [
       "('trainX_ActionPatternData_Split3', 'trainy_ActionPatternData_SplitNone')"
      ]
     },
     "execution_count": 20,
     "metadata": {},
     "output_type": "execute_result"
    }
   ],
   "source": [
    "dataList[4], dataList[5]"
   ]
  },
  {
   "cell_type": "code",
   "execution_count": 24,
   "id": "30933580",
   "metadata": {
    "ExecuteTime": {
     "end_time": "2022-09-06T07:50:20.737339Z",
     "start_time": "2022-09-06T07:50:15.573675Z"
    }
   },
   "outputs": [],
   "source": [
    "# 1-2. Select Train Data\n",
    "## dataX\n",
    "dataName_X = dataList[2]\n",
    "dataSaveMode_X = DataMeta[dataName_X][\"integrationInfo\"][\"DataSaveMode\"]\n",
    "windows = DataMeta[dataName_X][\"integrationInfo\"][\"dataInfo\"][\"windows\"]\n",
    "\n",
    "## datay\n",
    "dataName_y = dataList[3]\n",
    "dataSaveMode_y = DataMeta[dataName_y][\"integrationInfo\"][\"DataSaveMode\"]"
   ]
  },
  {
   "cell_type": "code",
   "execution_count": 25,
   "id": "1a1c06a5",
   "metadata": {
    "ExecuteTime": {
     "end_time": "2022-09-06T07:50:20.737339Z",
     "start_time": "2022-09-06T07:50:15.573675Z"
    }
   },
   "outputs": [],
   "source": [
    "# 1-3. Read Train Data\n",
    "## CSV 로 Local 에 데이터 저장되어 있을 경우\n",
    "dataFolderName = \"data_integrated_result\"\n",
    "current = os.getcwd()\n",
    "dataFolderPath = os.path.join(current, dataFolderName)\n",
    "\n",
    "dataX = p2.getSavedIntegratedData(dataSaveMode_X, dataName_X, dataFolderPath)\n",
    "datay = p2.getSavedIntegratedData(dataSaveMode_y, dataName_y, dataFolderPath)\n",
    "integration_freq_sec = DataMeta[dataName_X][\"integrationInfo\"][\"integration_freq_sec\"]"
   ]
  },
  {
   "cell_type": "code",
   "execution_count": 19,
   "id": "0b4e783a",
   "metadata": {},
   "outputs": [],
   "source": [
    "# data_X_reshape = pd.DataFrame(np.array(dataX).reshape(7352, 32, 9))"
   ]
  },
  {
   "cell_type": "code",
   "execution_count": 32,
   "id": "ffc03130",
   "metadata": {},
   "outputs": [
    {
     "name": "stdout",
     "output_type": "stream",
     "text": [
      "(7352, 9, 128)\n",
      "(7352,)\n",
      "(2947, 9, 128)\n",
      "(2947,)\n",
      "inputSize(train_x.shape[1]): 9\n",
      "sequenceLenth (train_x.shape[2]): 128\n"
     ]
    }
   ],
   "source": [
    "## MSH\n",
    "# UCI HAR Data Read\n",
    "# folderAddress = './data/'\n",
    "# model_list = [\"LSTM_cf\",\"GRU_cf\", \"CNN_1D_cf\",\"LSTM_FCNs_cf\"]\n",
    "# model_name = model_list[2]\n",
    "\n",
    "# dataX, datay, _, _ = setting.getTrainDataFromFilesForClassification(folderAddress, model_name)"
   ]
  },
  {
   "cell_type": "markdown",
   "id": "d6e052db",
   "metadata": {},
   "source": [
    "## 2-2. Training Data Preparation"
   ]
  },
  {
   "cell_type": "code",
   "execution_count": 27,
   "id": "11b755d3",
   "metadata": {
    "ExecuteTime": {
     "end_time": "2022-09-06T07:50:49.452976Z",
     "start_time": "2022-09-06T07:50:48.361234Z"
    },
    "scrolled": true
   },
   "outputs": [
    {
     "name": "stdout",
     "output_type": "stream",
     "text": [
      "['concat_emb1', 'concat_emb2', 'concat_emb3', 'concat_emb4', 'concat_emb5', 'concat_emb6', 'concat_emb7', 'concat_emb8', 'concat_emb9', 'concat_emb10', 'concat_emb11', 'concat_emb12', 'concat_emb13', 'concat_emb14', 'concat_emb15', 'concat_emb16', 'concat_emb17', 'concat_emb18', 'concat_emb19', 'concat_emb20', 'concat_emb21', 'concat_emb22', 'concat_emb23', 'concat_emb24', 'concat_emb25', 'concat_emb26', 'concat_emb27', 'concat_emb28', 'concat_emb29', 'concat_emb30', 'concat_emb31', 'concat_emb32']\n",
      "Make New scaler File\n"
     ]
    }
   ],
   "source": [
    "# 2. Training Data Preparation\n",
    "# 2-1.\n",
    "featureListX= list(dataX.columns)\n",
    "featureListy= list(datay.columns)\n",
    "target_col = 'value'\n",
    "\n",
    "# 2-2.\n",
    "cleanTrainDataParam = 'NoClean'#  Classification, Regression과 같이 X, y가 분리된 경우에는 현재 고정해서 사용해야함\n",
    "\n",
    "# 2-3.\n",
    "scalerParam=\"scale\"\n",
    "splitRatio = 0.8\n",
    "scaleMethod='minmax'\n",
    "modeX = 'windows_split'\n",
    "\n",
    "scalerRootPath_X = os.path.join(pathSetting.scalerRootDir, dataName_X, cleanTrainDataParam)\n",
    "scalerRootPath_y = None\n",
    "\n",
    "# split train data into train/valiation data\n",
    "# normalization\n",
    "trainvalX, X_scalerFilePath = p3.getScaledData(scalerParam, scalerRootPath_X, dataX, scaleMethod)\n",
    "\n",
    "# train data를 랜덤으로 test_size=split_ratio에 대하여 train/validation set으로 분할\n",
    "split_ratio = 0.2\n",
    "train_x, val_x, train_y, val_y = train_test_split(trainvalX, datay, test_size=split_ratio, shuffle=True)\n",
    "\n",
    "\n",
    "\n",
    "# 2-4. Scale & Split Train/Validation\n",
    "#scalerRootPath_X = os.path.join(pathSetting.scalerRootDir, dataName_X, cleanTrainDataParam)\n",
    "#scalerRootPath_y = os.path.join(pathSetting.scalerRootDir, dataName_X, cleanTrainDataParam)\n",
    "#train_x, val_x, X_scalerFilePath = p3.getTrainValData(dataX, featureListX, scalerRootPath_X, splitRatio, scalerParam, scaleMethod, modeX, windows)\n",
    "#train_y, val_y, y_scalerFilePath = p3.getTrainValData(datay, featureListy, scalerRootPath_y, splitRatio, \"NoScale\")"
   ]
  },
  {
   "cell_type": "code",
   "execution_count": null,
   "id": "85e05807",
   "metadata": {},
   "outputs": [],
   "source": []
  },
  {
   "cell_type": "code",
   "execution_count": null,
   "id": "7a51b95e",
   "metadata": {},
   "outputs": [],
   "source": []
  },
  {
   "cell_type": "markdown",
   "id": "ff6b9d01",
   "metadata": {},
   "source": [
    "## 2-3. Set Training Parameter"
   ]
  },
  {
   "cell_type": "code",
   "execution_count": 28,
   "id": "c5efc1a4",
   "metadata": {
    "ExecuteTime": {
     "end_time": "2022-09-06T07:51:04.473941Z",
     "start_time": "2022-09-06T07:51:04.462059Z"
    }
   },
   "outputs": [],
   "source": [
    "# 3. Set Training Parameter\n",
    "# 3-1.\n",
    "model_list = [\"LSTM_cf\",\"CNN_1D_cf\", \"FC_cf\"]\n",
    "model_method = model_list[0]\n",
    "\n",
    "n_epochs = 100 # 학습 epoch 횟수, int(default: 1000, 범위: 1 이상)\n",
    "batch_size = 64  # batch 크기, int(default: 16, 범위: 1 이상, 컴퓨터 사양에 적합하게 설정)\n",
    "num_classes = 6 # class 개수\n",
    "\n",
    "trainParameter = setting.modelConfig[model_method]\n",
    "trainParameter['device']  = device\n",
    "trainParameter['num_classes'] = num_classes\n",
    "\n",
    "modelTags =[\"action\", \"sensor\", \"classification\", \"pattern\", dataName_X, model_method]\n",
    "trainDataType = \"timeseries\"\n",
    "modelPurpose = \"classification\"\n",
    "\n",
    "trainDataInfo = DataMeta[dataName_X]['integrationInfo']\n",
    "\n",
    "# 3-2. 모델을 저장할 파일 패스를 생성\n",
    "from KETIPreDataTransformation.general_transformation.dataScaler import encodeHashStyle\n",
    "trainParameter_encode =  encodeHashStyle(str(trainParameter))\n",
    "\n",
    "ModelName = dataName_X+\"_\"+model_method\n",
    "\n",
    "trainDataPathList = [ModelName, dataName_X, trainParameter_encode]\n",
    "modelFilePath = p3.getModelFilePath(trainDataPathList, model_method)\n"
   ]
  },
  {
   "cell_type": "code",
   "execution_count": 29,
   "id": "bdfad5b5",
   "metadata": {
    "ExecuteTime": {
     "end_time": "2022-09-06T07:51:05.705219Z",
     "start_time": "2022-09-06T07:51:05.692222Z"
    }
   },
   "outputs": [
    {
     "data": {
      "text/plain": [
       "{'num_layers': 2,\n",
       " 'hidden_size': 64,\n",
       " 'dropout': 0.1,\n",
       " 'bidirectional': True,\n",
       " 'lr': 0.0001,\n",
       " 'device': 'cuda',\n",
       " 'num_classes': 6}"
      ]
     },
     "execution_count": 29,
     "metadata": {},
     "output_type": "execute_result"
    }
   ],
   "source": [
    "trainParameter"
   ]
  },
  {
   "cell_type": "code",
   "execution_count": 30,
   "id": "b3ca350a",
   "metadata": {},
   "outputs": [
    {
     "data": {
      "text/plain": [
       "'ML_trainX_ActionPatternData_Split3_LSTM_cf'"
      ]
     },
     "execution_count": 30,
     "metadata": {},
     "output_type": "execute_result"
    }
   ],
   "source": [
    "ModelName"
   ]
  },
  {
   "cell_type": "markdown",
   "id": "a8a32695",
   "metadata": {},
   "source": [
    "## 2-4. Training"
   ]
  },
  {
   "cell_type": "code",
   "execution_count": 31,
   "id": "20a37b8f",
   "metadata": {},
   "outputs": [
    {
     "data": {
      "text/plain": [
       "{'num_layers': 2,\n",
       " 'hidden_size': 64,\n",
       " 'dropout': 0.1,\n",
       " 'bidirectional': True,\n",
       " 'lr': 0.0001,\n",
       " 'device': 'cuda',\n",
       " 'num_classes': 6}"
      ]
     },
     "execution_count": 31,
     "metadata": {},
     "output_type": "execute_result"
    }
   ],
   "source": [
    "trainParameter"
   ]
  },
  {
   "cell_type": "code",
   "execution_count": 26,
   "id": "44dec002",
   "metadata": {
    "ExecuteTime": {
     "end_time": "2022-09-06T07:54:26.784553Z",
     "start_time": "2022-09-06T07:51:07.953610Z"
    },
    "scrolled": true
   },
   "outputs": [
    {
     "name": "stdout",
     "output_type": "stream",
     "text": [
      "Start training model\n",
      "\n",
      "Epoch 1/100\n",
      "train Loss: 1.7728 Acc: 0.3719\n",
      "val Loss: 1.7467 Acc: 0.5316\n",
      "\n",
      "Epoch 10/100\n",
      "train Loss: 0.0145 Acc: 1.0000\n",
      "val Loss: 0.0125 Acc: 1.0000\n",
      "\n",
      "Epoch 20/100\n",
      "train Loss: 0.0025 Acc: 1.0000\n",
      "val Loss: 0.0024 Acc: 1.0000\n",
      "\n",
      "Epoch 30/100\n",
      "train Loss: 0.0010 Acc: 1.0000\n",
      "val Loss: 0.0009 Acc: 1.0000\n",
      "\n",
      "Epoch 40/100\n",
      "train Loss: 0.0005 Acc: 1.0000\n",
      "val Loss: 0.0005 Acc: 1.0000\n",
      "\n",
      "Epoch 50/100\n",
      "train Loss: 0.0003 Acc: 1.0000\n",
      "val Loss: 0.0002 Acc: 1.0000\n",
      "\n",
      "Epoch 60/100\n",
      "train Loss: 0.0001 Acc: 1.0000\n",
      "val Loss: 0.0001 Acc: 1.0000\n",
      "\n",
      "Epoch 70/100\n",
      "train Loss: 0.0001 Acc: 1.0000\n",
      "val Loss: 0.0001 Acc: 1.0000\n",
      "\n",
      "Epoch 80/100\n",
      "train Loss: 0.0001 Acc: 1.0000\n",
      "val Loss: 0.0000 Acc: 1.0000\n",
      "\n",
      "Epoch 90/100\n",
      "train Loss: 0.0000 Acc: 1.0000\n",
      "val Loss: 0.0000 Acc: 1.0000\n",
      "\n",
      "Epoch 100/100\n",
      "train Loss: 0.0000 Acc: 1.0000\n",
      "val Loss: 0.0000 Acc: 1.0000\n",
      "\n",
      "Training complete in 0m 24s\n",
      "Best val Acc: 1.000000\n"
     ]
    }
   ],
   "source": [
    "# 4. Training\n",
    "from KETIToolDL.TrainTool.Classification.trainer import ClassificationML as CML\n",
    "\n",
    "cml = CML(model_method, trainParameter)\n",
    "cml.processInputData(train_x, train_y, val_x, val_y, batch_size, windows)\n",
    "model = cml.getModel()\n",
    "best_model, timeElapsed = cml.trainModel(model, modelFilePath, n_epochs)"
   ]
  },
  {
   "cell_type": "code",
   "execution_count": null,
   "id": "adf53163",
   "metadata": {},
   "outputs": [],
   "source": []
  },
  {
   "cell_type": "code",
   "execution_count": null,
   "id": "fe7de264",
   "metadata": {},
   "outputs": [],
   "source": []
  },
  {
   "cell_type": "markdown",
   "id": "1f7fc982",
   "metadata": {},
   "source": [
    "## 2-5. Meta Save"
   ]
  },
  {
   "cell_type": "code",
   "execution_count": 29,
   "id": "f71dd8af",
   "metadata": {},
   "outputs": [
    {
     "data": {
      "text/plain": [
       "'ML_trainX_ActionPatternData_Split3_LSTM_cf'"
      ]
     },
     "execution_count": 29,
     "metadata": {},
     "output_type": "execute_result"
    }
   ],
   "source": [
    "# 5. Meta Save\n",
    "# 5-1. model name 확인\n",
    "ModelName"
   ]
  },
  {
   "cell_type": "code",
   "execution_count": 30,
   "id": "8bca73fb",
   "metadata": {
    "ExecuteTime": {
     "end_time": "2022-09-06T07:54:43.190148Z",
     "start_time": "2022-09-06T07:54:43.171160Z"
    }
   },
   "outputs": [],
   "source": [
    "# 5-2. update MetaFile\n",
    "modelInfoMeta ={\n",
    "    \"author\":\"KETI\",\n",
    "    \"modelName\": ModelName,\n",
    "    \"modelVersion\":0.1,\n",
    "    \"trainDataInfo\":trainDataInfo,\n",
    "    \"featureList\":featureListX,\n",
    "    \"target\":featureListy,\n",
    "    \"trainDataType\":trainDataType,\n",
    "    \"modelPurpose\":modelPurpose,\n",
    "    \"model_method\":model_method,\n",
    "    \"modelTags\":modelTags,\n",
    "    \"cleanTrainDataParam\":cleanTrainDataParam,\n",
    "    \"NaNProcessingParam\":{},\n",
    "    \"trainDataName\":[dataName_X,dataName_y],\n",
    "    \"trainParameter\":cml.parameter,\n",
    "    \"scalerParam\":scalerParam,\n",
    "    \"files\":{\n",
    "        \"modelFile\":{\n",
    "            \"fileName\":\"model.pth\",\n",
    "            \"filePath\":modelFilePath\n",
    "        },\n",
    "        \"XScalerFile\":{\n",
    "            \"fileName\":\"scaler.pkl\",\n",
    "            \"filePath\":X_scalerFilePath       \n",
    "        },\n",
    "        \"yScalerFile\":{\n",
    "            \"fileName\":\"scaler.pkl\",\n",
    "            \"filePath\":scalerRootPath_y       \n",
    "        }\n",
    "    },\n",
    "    \"trainParameter\":trainParameter,\n",
    "    \"n_epochs\":n_epochs,\n",
    "    \"timeElapsed\" : timeElapsed\n",
    "}\n",
    "modelInfoMeta = p3.updateModelMetaData(ModelName, modelInfoMeta, pathSetting.trainModelMetaFilePath)"
   ]
  },
  {
   "cell_type": "code",
   "execution_count": 31,
   "id": "e1244192",
   "metadata": {
    "ExecuteTime": {
     "end_time": "2022-09-05T08:50:16.739554Z",
     "start_time": "2022-09-05T08:50:16.735020Z"
    },
    "scrolled": true
   },
   "outputs": [
    {
     "data": {
      "text/plain": [
       "{'author': 'KETI',\n",
       " 'modelName': 'ML_trainX_ActionPatternData_Split3_LSTM_cf',\n",
       " 'modelVersion': 0.1,\n",
       " 'trainDataInfo': {'startTime': '2022-01-01',\n",
       "  'endTime': '2022-01-01 08:10:04',\n",
       "  'dataInfo': {'windows': 1,\n",
       "   'dataSize': '235264',\n",
       "   'timeElapsed': '0:00:52.012849'},\n",
       "  'processParam': {'refine_param': {'removeDuplication': {'flag': False},\n",
       "    'staticFrequency': {'flag': False, 'frequency': None}},\n",
       "   'outlier_param': {'certainErrorToNaN': {'flag': False},\n",
       "    'unCertainErrorToNaN': {'flag': False, 'param': {}}},\n",
       "   'imputation_param': {'serialImputation': {'flag': False,\n",
       "     'imputation_method': [],\n",
       "     'totalNonNanRatio': 80}}},\n",
       "  'integration_freq_sec': 4,\n",
       "  'cleanParam': 'NoClean',\n",
       "  'DataSaveMode': 'CSV'},\n",
       " 'featureList': ['concat_emb1',\n",
       "  'concat_emb2',\n",
       "  'concat_emb3',\n",
       "  'concat_emb4',\n",
       "  'concat_emb5',\n",
       "  'concat_emb6',\n",
       "  'concat_emb7',\n",
       "  'concat_emb8',\n",
       "  'concat_emb9',\n",
       "  'concat_emb10',\n",
       "  'concat_emb11',\n",
       "  'concat_emb12',\n",
       "  'concat_emb13',\n",
       "  'concat_emb14',\n",
       "  'concat_emb15',\n",
       "  'concat_emb16',\n",
       "  'concat_emb17',\n",
       "  'concat_emb18',\n",
       "  'concat_emb19',\n",
       "  'concat_emb20',\n",
       "  'concat_emb21',\n",
       "  'concat_emb22',\n",
       "  'concat_emb23',\n",
       "  'concat_emb24',\n",
       "  'concat_emb25',\n",
       "  'concat_emb26',\n",
       "  'concat_emb27',\n",
       "  'concat_emb28',\n",
       "  'concat_emb29',\n",
       "  'concat_emb30',\n",
       "  'concat_emb31',\n",
       "  'concat_emb32'],\n",
       " 'target': ['value'],\n",
       " 'trainDataType': 'timeseries',\n",
       " 'modelPurpose': 'classification',\n",
       " 'model_method': 'LSTM_cf',\n",
       " 'modelTags': ['action',\n",
       "  'sensor',\n",
       "  'classification',\n",
       "  'pattern',\n",
       "  'ML_trainX_ActionPatternData_Split3',\n",
       "  'LSTM_cf'],\n",
       " 'cleanTrainDataParam': 'NoClean',\n",
       " 'NaNProcessingParam': {},\n",
       " 'trainDataName': ['ML_trainX_ActionPatternData_Split3',\n",
       "  'ML_trainy_ActionPatternData_Split3'],\n",
       " 'trainParameter': {'num_layers': 2,\n",
       "  'hidden_size': 64,\n",
       "  'dropout': 0.1,\n",
       "  'bidirectional': True,\n",
       "  'lr': 0.0001,\n",
       "  'device': 'cuda',\n",
       "  'num_classes': 6,\n",
       "  'input_size': 32,\n",
       "  'seq_len': 1,\n",
       "  'rnn_type': 'lstm'},\n",
       " 'scalerParam': 'scale',\n",
       " 'files': {'modelFile': {'fileName': 'model.pth',\n",
       "   'filePath': ['./Models\\\\LSTM_cf\\\\ML_trainX_ActionPatternData_Split3_LSTM_cf\\\\ML_trainX_ActionPatternData_Split3\\\\f2a36ead1ca2fef043aa1df6ee3786c1\\\\model.pt']},\n",
       "  'XScalerFile': {'fileName': 'scaler.pkl',\n",
       "   'filePath': './scaler/ML_trainX_ActionPatternData_Split3\\\\NoClean\\\\minmax\\\\4144431a8249ee214fed9f95d5cf8e1f\\\\scaler.pkl'},\n",
       "  'yScalerFile': {'fileName': 'scaler.pkl', 'filePath': None}},\n",
       " 'n_epochs': 100,\n",
       " 'timeElapsed': '0:00:24.466804'}"
      ]
     },
     "execution_count": 31,
     "metadata": {},
     "output_type": "execute_result"
    }
   ],
   "source": [
    "modelInfoMeta"
   ]
  },
  {
   "cell_type": "code",
   "execution_count": null,
   "id": "7849be61",
   "metadata": {},
   "outputs": [],
   "source": []
  },
  {
   "cell_type": "code",
   "execution_count": null,
   "id": "278fc651",
   "metadata": {},
   "outputs": [],
   "source": []
  },
  {
   "cell_type": "code",
   "execution_count": null,
   "id": "4a3855d0",
   "metadata": {},
   "outputs": [],
   "source": []
  }
 ],
 "metadata": {
  "hide_input": false,
  "kernelspec": {
   "display_name": "Python 3.9.12 ('torch')",
   "language": "python",
   "name": "python3"
  },
  "language_info": {
   "codemirror_mode": {
    "name": "ipython",
    "version": 3
   },
   "file_extension": ".py",
   "mimetype": "text/x-python",
   "name": "python",
   "nbconvert_exporter": "python",
   "pygments_lexer": "ipython3",
   "version": "3.9.12"
  },
  "toc": {
   "base_numbering": 1,
   "nav_menu": {},
   "number_sections": true,
   "sideBar": true,
   "skip_h1_title": false,
   "title_cell": "Table of Contents",
   "title_sidebar": "Contents",
   "toc_cell": true,
   "toc_position": {
    "height": "calc(100% - 180px)",
    "left": "10px",
    "top": "150px",
    "width": "224.188px"
   },
   "toc_section_display": true,
   "toc_window_display": true
  },
  "vscode": {
   "interpreter": {
    "hash": "706c2e6365fd0da88e422b1155d848ec1bd03fcf22a183bf2b65734d8441fcb5"
   }
  }
 },
 "nbformat": 4,
 "nbformat_minor": 5
}
