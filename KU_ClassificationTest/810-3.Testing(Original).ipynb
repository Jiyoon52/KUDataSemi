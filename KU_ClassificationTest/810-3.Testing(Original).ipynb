{
 "cells": [
  {
   "cell_type": "markdown",
   "id": "03f3be77",
   "metadata": {
    "toc": true
   },
   "source": [
    "<h1>Table of Contents<span class=\"tocSkip\"></span></h1>\n",
    "<div class=\"toc\"><ul class=\"toc-item\"><li><span><a href=\"#3.-Testing\" data-toc-modified-id=\"3.-Testing-1\"><span class=\"toc-item-num\">1&nbsp;&nbsp;</span>3. Testing</a></span><ul class=\"toc-item\"><li><span><a href=\"#3-1.-Data&amp;Model-selection\" data-toc-modified-id=\"3-1.-Data&amp;Model-selection-1.1\"><span class=\"toc-item-num\">1.1&nbsp;&nbsp;</span>3-1. Data&amp;Model selection</a></span></li><li><span><a href=\"#3-2.-Testing\" data-toc-modified-id=\"3-2.-Testing-1.2\"><span class=\"toc-item-num\">1.2&nbsp;&nbsp;</span>3-2. Testing</a></span></li><li><span><a href=\"#3-3.-Save-Result\" data-toc-modified-id=\"3-3.-Save-Result-1.3\"><span class=\"toc-item-num\">1.3&nbsp;&nbsp;</span>3-3. Save Result</a></span></li></ul></li></ul></div>"
   ]
  },
  {
   "cell_type": "code",
   "execution_count": 1,
   "id": "1611f6b2",
   "metadata": {
    "ExecuteTime": {
     "end_time": "2022-09-06T07:54:58.898174Z",
     "start_time": "2022-09-06T07:54:56.962949Z"
    }
   },
   "outputs": [
    {
     "name": "stdout",
     "output_type": "stream",
     "text": [
      "cpu is available.\n"
     ]
    }
   ],
   "source": [
    "import sys, os\n",
    "import pandas as pd\n",
    "import numpy as np\n",
    "import setting\n",
    "import pathSetting\n",
    "sys.path.append(\"../../..\")\n",
    "\n",
    "from KETIToolDL.CLUSTTool.common import p1_integratedDataSaving as p1\n",
    "from KETIToolDL.CLUSTTool.common import p2_dataSelection as p2\n",
    "from KETIToolDL.CLUSTTool.common import p3_training as p3\n",
    "from KETIToolDL.CLUSTTool.common import p4_testing as p4\n",
    "from KETIToolDL.CLUSTTool.Classification import p4_testing as p4C\n",
    "\n",
    "import torch\n",
    "\n",
    "device = \"cuda\" if torch.cuda.is_available() else \"cpu\"\n",
    "print(f\"{device}\" \" is available.\")"
   ]
  },
  {
   "cell_type": "markdown",
   "id": "b5878a1b",
   "metadata": {},
   "source": [
    "# 3. Testing\n",
    "## 3-1. Data&Model selection"
   ]
  },
  {
   "cell_type": "code",
   "execution_count": 2,
   "id": "e46acda7",
   "metadata": {
    "ExecuteTime": {
     "end_time": "2022-09-06T07:54:59.651869Z",
     "start_time": "2022-09-06T07:54:59.631272Z"
    }
   },
   "outputs": [
    {
     "data": {
      "text/plain": [
       "['testy_ActionPatternData_SplitNone',\n",
       " 'trainy_ActionPatternData_SplitNone',\n",
       " 'trainX_ActionPatternData_Split3',\n",
       " 'testX_ActionPatternData_Split3',\n",
       " 'trainX_ActionPatternData_Split1',\n",
       " 'testX_ActionPatternData_Split1',\n",
       " 'ML_trainX_ActionPatternData_Split3',\n",
       " 'ML_trainy_ActionPatternData_Split3',\n",
       " 'ML_testX_ActionPatternData_Split3',\n",
       " 'ML_testy_ActionPatternData_Split3']"
      ]
     },
     "execution_count": 2,
     "metadata": {},
     "output_type": "execute_result"
    }
   ],
   "source": [
    "# Test Data & Model\n",
    "# 1-1. 저장 Data 확인\n",
    "DataMeta = p1.readJsonData(pathSetting.DataMetaPath)\n",
    "dataList =  list(DataMeta.keys())\n",
    "dataList"
   ]
  },
  {
   "cell_type": "code",
   "execution_count": 3,
   "id": "59ea39c2",
   "metadata": {
    "ExecuteTime": {
     "end_time": "2022-09-06T07:55:10.797745Z",
     "start_time": "2022-09-06T07:55:10.791325Z"
    }
   },
   "outputs": [
    {
     "data": {
      "text/plain": [
       "('ML_testX_ActionPatternData_Split3', 'ML_testy_ActionPatternData_Split3')"
      ]
     },
     "execution_count": 3,
     "metadata": {},
     "output_type": "execute_result"
    }
   ],
   "source": [
    "dataList[8] , dataList[9]"
   ]
  },
  {
   "cell_type": "code",
   "execution_count": 4,
   "id": "36fa45b2",
   "metadata": {
    "ExecuteTime": {
     "end_time": "2022-09-06T07:55:15.330643Z",
     "start_time": "2022-09-06T07:55:15.315914Z"
    }
   },
   "outputs": [
    {
     "data": {
      "text/plain": [
       "['trainX_ActionPatternData_Split3_FC_cf',\n",
       " 'trainX_ActionPatternData_Split1_FC_cf',\n",
       " 'ML_trainX_ActionPatternData_Split3_FC_cf']"
      ]
     },
     "execution_count": 4,
     "metadata": {},
     "output_type": "execute_result"
    }
   ],
   "source": [
    "# 1-2. Select Test Data\n",
    "## dataX\n",
    "dataName_X = dataList[8]\n",
    "## datay\n",
    "dataName_y = dataList[9]\n",
    "dataFolderName = \"data_integrated_result\"\n",
    "\n",
    "# 1-3. 저장 Model 확인\n",
    "ModelMeta =p1.readJsonData(pathSetting.trainModelMetaFilePath)\n",
    "modelList = list(ModelMeta.keys())\n",
    "modelList"
   ]
  },
  {
   "cell_type": "code",
   "execution_count": 5,
   "id": "04592c42",
   "metadata": {
    "ExecuteTime": {
     "end_time": "2022-09-06T07:55:24.669928Z",
     "start_time": "2022-09-06T07:55:24.666315Z"
    }
   },
   "outputs": [],
   "source": [
    "# 1-4. select Model \n",
    "modelName = modelList[2]\n",
    "windows = DataMeta[dataName_X][\"integrationInfo\"][\"dataInfo\"][\"windows\"]"
   ]
  },
  {
   "cell_type": "code",
   "execution_count": 6,
   "id": "142a1e57",
   "metadata": {
    "ExecuteTime": {
     "end_time": "2022-09-06T07:55:25.394522Z",
     "start_time": "2022-09-06T07:55:25.388746Z"
    },
    "scrolled": true
   },
   "outputs": [
    {
     "data": {
      "text/plain": [
       "'ML_trainX_ActionPatternData_Split3_FC_cf'"
      ]
     },
     "execution_count": 6,
     "metadata": {},
     "output_type": "execute_result"
    }
   ],
   "source": [
    "# 1-5. 선택한 Model 확인\n",
    "modelName"
   ]
  },
  {
   "cell_type": "code",
   "execution_count": null,
   "id": "8488fe60",
   "metadata": {},
   "outputs": [],
   "source": []
  },
  {
   "cell_type": "markdown",
   "id": "5bd12fa4",
   "metadata": {},
   "source": [
    "## 3-2. Testing"
   ]
  },
  {
   "cell_type": "code",
   "execution_count": 7,
   "id": "02ace207",
   "metadata": {
    "ExecuteTime": {
     "end_time": "2022-09-06T07:55:53.828175Z",
     "start_time": "2022-09-06T07:55:28.954464Z"
    },
    "scrolled": true
   },
   "outputs": [
    {
     "name": "stdout",
     "output_type": "stream",
     "text": [
      "(2947, 32)\n",
      "                     concat_emb1  concat_emb2  concat_emb3  concat_emb4  \\\n",
      "2022-02-01 00:00:00     0.074119    -0.014260    -0.104811     0.046630   \n",
      "2022-02-01 00:00:04     0.089038    -0.020096    -0.095663     0.039496   \n",
      "2022-02-01 00:00:08     0.095532    -0.024518    -0.083150     0.044612   \n",
      "2022-02-01 00:00:12     0.081709    -0.022433    -0.105032     0.046437   \n",
      "2022-02-01 00:00:16     0.081172    -0.026887    -0.120805     0.048375   \n",
      "...                          ...          ...          ...          ...   \n",
      "2022-02-01 03:16:08    -0.174413     0.175975     0.157452     0.009674   \n",
      "2022-02-01 03:16:12    -0.174086     0.175768     0.157320     0.009432   \n",
      "2022-02-01 03:16:16    -0.174154     0.176241     0.157891     0.009649   \n",
      "2022-02-01 03:16:20    -0.174316     0.176022     0.157512     0.009578   \n",
      "2022-02-01 03:16:24    -0.174141     0.176133     0.157816     0.009507   \n",
      "\n",
      "                     concat_emb5  concat_emb6  concat_emb7  concat_emb8  \\\n",
      "2022-02-01 00:00:00     0.056831    -0.026703     0.033636     0.127227   \n",
      "2022-02-01 00:00:04     0.061720    -0.018292     0.039137     0.129496   \n",
      "2022-02-01 00:00:08     0.062910    -0.015813     0.039741     0.127915   \n",
      "2022-02-01 00:00:12     0.058618    -0.018790     0.038025     0.130421   \n",
      "2022-02-01 00:00:16     0.061126    -0.023507     0.039423     0.131549   \n",
      "...                          ...          ...          ...          ...   \n",
      "2022-02-01 03:16:08    -0.036101    -0.033502    -0.174203    -0.011443   \n",
      "2022-02-01 03:16:12    -0.035597    -0.033315    -0.173965    -0.011782   \n",
      "2022-02-01 03:16:16    -0.036275    -0.033583    -0.173860    -0.011005   \n",
      "2022-02-01 03:16:20    -0.035981    -0.033410    -0.174061    -0.011554   \n",
      "2022-02-01 03:16:24    -0.036145    -0.033550    -0.173879    -0.011094   \n",
      "\n",
      "                     concat_emb9  concat_emb10  ...  concat_emb23  \\\n",
      "2022-02-01 00:00:00    -0.104405     -0.019616  ...      0.049587   \n",
      "2022-02-01 00:00:04    -0.104622     -0.012763  ...      0.051959   \n",
      "2022-02-01 00:00:08    -0.111511     -0.014630  ...      0.058402   \n",
      "2022-02-01 00:00:12    -0.107420     -0.018331  ...      0.051972   \n",
      "2022-02-01 00:00:16    -0.100703     -0.019872  ...      0.042462   \n",
      "...                          ...           ...  ...           ...   \n",
      "2022-02-01 03:16:08     0.192827      0.020582  ...     -0.123895   \n",
      "2022-02-01 03:16:12     0.192991      0.019994  ...     -0.123533   \n",
      "2022-02-01 03:16:16     0.193321      0.020166  ...     -0.123872   \n",
      "2022-02-01 03:16:20     0.192726      0.020465  ...     -0.123781   \n",
      "2022-02-01 03:16:24     0.193289      0.020127  ...     -0.123791   \n",
      "\n",
      "                     concat_emb24  concat_emb25  concat_emb26  concat_emb27  \\\n",
      "2022-02-01 00:00:00      0.008176     -0.035842     -0.034508     -0.054119   \n",
      "2022-02-01 00:00:04      0.020172     -0.040845     -0.033621     -0.047397   \n",
      "2022-02-01 00:00:08      0.022154     -0.045239     -0.046451     -0.039355   \n",
      "2022-02-01 00:00:12      0.010187     -0.040977     -0.037740     -0.046562   \n",
      "2022-02-01 00:00:16      0.014656     -0.037482     -0.025071     -0.053165   \n",
      "...                           ...           ...           ...           ...   \n",
      "2022-02-01 03:16:08      0.173231     -0.074199      0.074740     -0.071294   \n",
      "2022-02-01 03:16:12      0.172675     -0.073849      0.073827     -0.071126   \n",
      "2022-02-01 03:16:16      0.173252     -0.074808      0.074607     -0.071574   \n",
      "2022-02-01 03:16:20      0.173295     -0.074008      0.074596     -0.071259   \n",
      "2022-02-01 03:16:24      0.173028     -0.074567      0.074388     -0.071552   \n",
      "\n",
      "                     concat_emb28  concat_emb29  concat_emb30  concat_emb31  \\\n",
      "2022-02-01 00:00:00      0.053661     -0.179502     -0.035222     -0.136306   \n",
      "2022-02-01 00:00:04      0.064594     -0.171292     -0.027357     -0.134407   \n",
      "2022-02-01 00:00:08      0.078406     -0.170345     -0.030307     -0.131979   \n",
      "2022-02-01 00:00:12      0.063569     -0.174103     -0.028625     -0.140193   \n",
      "2022-02-01 00:00:16      0.058335     -0.180206     -0.016325     -0.151851   \n",
      "...                           ...           ...           ...           ...   \n",
      "2022-02-01 03:16:08     -0.025451     -0.037244     -0.078580     -0.144107   \n",
      "2022-02-01 03:16:12     -0.025617     -0.036372     -0.078301     -0.143090   \n",
      "2022-02-01 03:16:16     -0.025271     -0.037431     -0.077751     -0.144406   \n",
      "2022-02-01 03:16:20     -0.025613     -0.037122     -0.078379     -0.143958   \n",
      "2022-02-01 03:16:24     -0.025353     -0.037296     -0.077739     -0.144149   \n",
      "\n",
      "                     concat_emb32  \n",
      "2022-02-01 00:00:00     -0.060983  \n",
      "2022-02-01 00:00:04     -0.058277  \n",
      "2022-02-01 00:00:08     -0.069784  \n",
      "2022-02-01 00:00:12     -0.063642  \n",
      "2022-02-01 00:00:16     -0.054802  \n",
      "...                           ...  \n",
      "2022-02-01 03:16:08     -0.075691  \n",
      "2022-02-01 03:16:12     -0.075651  \n",
      "2022-02-01 03:16:16     -0.075393  \n",
      "2022-02-01 03:16:20     -0.075640  \n",
      "2022-02-01 03:16:24     -0.075611  \n",
      "\n",
      "[2947 rows x 32 columns]\n",
      "(2947, 1)\n",
      "                     value\n",
      "2022-02-01 00:00:00    0.0\n",
      "2022-02-01 00:00:01    0.0\n",
      "2022-02-01 00:00:02    0.0\n",
      "2022-02-01 00:00:03    0.0\n",
      "2022-02-01 00:00:04    0.0\n",
      "...                    ...\n",
      "2022-02-01 00:49:02    5.0\n",
      "2022-02-01 00:49:03    5.0\n",
      "2022-02-01 00:49:04    5.0\n",
      "2022-02-01 00:49:05    5.0\n",
      "2022-02-01 00:49:06    5.0\n",
      "\n",
      "[2947 rows x 1 columns]\n",
      "\n",
      "Start testing data\n",
      "\n",
      "** Performance of test dataset ==> PROB = [[0.10814469 0.14868121 0.1033498  0.2484973  0.22318073 0.16814633]\n",
      " [0.18226983 0.19339214 0.11822706 0.17516771 0.11648147 0.2144618 ]\n",
      " [0.15859856 0.19593017 0.13318662 0.16505164 0.14246087 0.20477216]\n",
      " ...\n",
      " [0.15348668 0.18216944 0.14032477 0.18314208 0.15355542 0.18732154]\n",
      " [0.10804969 0.14898105 0.10343806 0.24826963 0.22293384 0.16832757]\n",
      " [0.15333612 0.18192425 0.14045198 0.18326588 0.1538045  0.18721725]], ACC = 0.3488293179504581\n",
      "** Dimension of result for test dataset = (2947,)\n",
      "noScale\n"
     ]
    },
    {
     "name": "stderr",
     "output_type": "stream",
     "text": [
      "/opt/homebrew/Caskroom/miniforge/base/envs/Clust/lib/python3.8/site-packages/sklearn/metrics/_classification.py:1308: UndefinedMetricWarning: Precision and F-score are ill-defined and being set to 0.0 in labels with no predicted samples. Use `zero_division` parameter to control this behavior.\n",
      "  _warn_prf(average, modifier, msg_start, len(result))\n",
      "/opt/homebrew/Caskroom/miniforge/base/envs/Clust/lib/python3.8/site-packages/sklearn/metrics/_classification.py:1308: UndefinedMetricWarning: Precision and F-score are ill-defined and being set to 0.0 in labels with no predicted samples. Use `zero_division` parameter to control this behavior.\n",
      "  _warn_prf(average, modifier, msg_start, len(result))\n",
      "/opt/homebrew/Caskroom/miniforge/base/envs/Clust/lib/python3.8/site-packages/sklearn/metrics/_classification.py:1308: UndefinedMetricWarning: Precision and F-score are ill-defined and being set to 0.0 in labels with no predicted samples. Use `zero_division` parameter to control this behavior.\n",
      "  _warn_prf(average, modifier, msg_start, len(result))\n"
     ]
    }
   ],
   "source": [
    "# 2. Testing\n",
    "# 2-1. Read Parameter and model information and Testing\n",
    "df_result, result_metrics, acc= p4C.getTestResult(dataName_X, dataName_y, modelName, DataMeta, ModelMeta, dataFolderName, device, windows)"
   ]
  },
  {
   "cell_type": "code",
   "execution_count": 8,
   "id": "222d1111",
   "metadata": {
    "ExecuteTime": {
     "end_time": "2022-09-06T07:56:01.499317Z",
     "start_time": "2022-09-06T07:56:00.788910Z"
    }
   },
   "outputs": [
    {
     "data": {
      "text/plain": [
       "{3, 5}"
      ]
     },
     "execution_count": 8,
     "metadata": {},
     "output_type": "execute_result"
    },
    {
     "data": {
      "image/png": "[encoded data removed]",
      "text/plain": [
       "<Figure size 432x288 with 1 Axes>"
      ]
     },
     "metadata": {
      "needs_background": "light"
     },
     "output_type": "display_data"
    }
   ],
   "source": [
    "# 2-2. Result\n",
    "df_result[['value']].plot()\n",
    "set(df_result['prediction'].values)"
   ]
  },
  {
   "cell_type": "code",
   "execution_count": 9,
   "id": "cd5678a7",
   "metadata": {
    "ExecuteTime": {
     "end_time": "2022-09-06T07:56:03.430631Z",
     "start_time": "2022-09-06T07:56:03.421085Z"
    },
    "scrolled": true
   },
   "outputs": [
    {
     "data": {
      "text/plain": [
       "{'0': {'precision': 0.0, 'recall': 0.0, 'f1-score': 0.0, 'support': 496},\n",
       " '1': {'precision': 0.0, 'recall': 0.0, 'f1-score': 0.0, 'support': 471},\n",
       " '2': {'precision': 0.0, 'recall': 0.0, 'f1-score': 0.0, 'support': 420},\n",
       " '3': {'precision': 1.0, 'recall': 1.0, 'f1-score': 1.0, 'support': 491},\n",
       " '4': {'precision': 0.0, 'recall': 0.0, 'f1-score': 0.0, 'support': 532},\n",
       " '5': {'precision': 0.2186482084690554,\n",
       "  'recall': 1.0,\n",
       "  'f1-score': 0.35883728700300704,\n",
       "  'support': 537},\n",
       " 'accuracy': 0.3488293179504581,\n",
       " 'macro avg': {'precision': 0.20310803474484254,\n",
       "  'recall': 0.3333333333333333,\n",
       "  'f1-score': 0.22647288116716782,\n",
       "  'support': 2947},\n",
       " 'weighted avg': {'precision': 0.2064520149127529,\n",
       "  'recall': 0.3488293179504581,\n",
       "  'f1-score': 0.23199715748918043,\n",
       "  'support': 2947}}"
      ]
     },
     "execution_count": 9,
     "metadata": {},
     "output_type": "execute_result"
    }
   ],
   "source": [
    "# 2-3. result_metrics 확인\n",
    "result_metrics"
   ]
  },
  {
   "cell_type": "code",
   "execution_count": 10,
   "id": "95129ba1",
   "metadata": {
    "ExecuteTime": {
     "end_time": "2022-09-06T07:56:07.928748Z",
     "start_time": "2022-09-06T07:56:07.919788Z"
    }
   },
   "outputs": [
    {
     "data": {
      "text/plain": [
       "0.3488293179504581"
      ]
     },
     "execution_count": 10,
     "metadata": {},
     "output_type": "execute_result"
    }
   ],
   "source": [
    "# 2-4. 정확도 확인\n",
    "acc"
   ]
  },
  {
   "cell_type": "code",
   "execution_count": null,
   "id": "4bf22946",
   "metadata": {},
   "outputs": [],
   "source": []
  },
  {
   "cell_type": "markdown",
   "id": "ad8e0849",
   "metadata": {},
   "source": [
    "## 3-3. Save Result"
   ]
  },
  {
   "cell_type": "code",
   "execution_count": 15,
   "id": "e786e9f6",
   "metadata": {},
   "outputs": [],
   "source": [
    "# 3. Save Result\n",
    "import json\n",
    "\n",
    "with open('./modelResult/{}_result.json'.format(modelName),'w') as f:\n",
    "  json.dump(result_metrics, f, ensure_ascii=False, indent=4)"
   ]
  },
  {
   "cell_type": "code",
   "execution_count": null,
   "id": "c4cd55b0",
   "metadata": {},
   "outputs": [],
   "source": []
  }
 ],
 "metadata": {
  "hide_input": false,
  "kernelspec": {
   "display_name": "Python 3.9.12 ('torch')",
   "language": "python",
   "name": "python3"
  },
  "language_info": {
   "codemirror_mode": {
    "name": "ipython",
    "version": 3
   },
   "file_extension": ".py",
   "mimetype": "text/x-python",
   "name": "python",
   "nbconvert_exporter": "python",
   "pygments_lexer": "ipython3",
   "version": "3.9.12"
  },
  "toc": {
   "base_numbering": 1,
   "nav_menu": {},
   "number_sections": true,
   "sideBar": true,
   "skip_h1_title": false,
   "title_cell": "Table of Contents",
   "title_sidebar": "Contents",
   "toc_cell": true,
   "toc_position": {
    "height": "calc(100% - 180px)",
    "left": "10px",
    "top": "150px",
    "width": "174.188px"
   },
   "toc_section_display": true,
   "toc_window_display": true
  },
  "vscode": {
   "interpreter": {
    "hash": "706c2e6365fd0da88e422b1155d848ec1bd03fcf22a183bf2b65734d8441fcb5"
   }
  }
 },
 "nbformat": 4,
 "nbformat_minor": 5
}
